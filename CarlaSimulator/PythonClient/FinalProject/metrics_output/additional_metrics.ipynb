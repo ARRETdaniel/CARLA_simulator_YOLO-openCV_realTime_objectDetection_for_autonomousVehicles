{
 "cells": [
  {
   "cell_type": "markdown",
   "id": "e2775cff",
   "metadata": {},
   "source": [
    "Cálculo Correto do Intervalo de Confiança\n"
   ]
  },
  {
   "cell_type": "code",
   "execution_count": 1,
   "id": "493b2da9",
   "metadata": {},
   "outputs": [
    {
     "name": "stdout",
     "output_type": "stream",
     "text": [
      "Número de amostras: 999\n",
      "Tempo médio: 0.068065s\n",
      "Desvio padrão: 0.059801s\n",
      "\n",
      "Intervalo de Confiança 95%:\n",
      "[0.064353s; 0.071778s]\n",
      "[64.35ms; 71.78ms]\n",
      "\n",
      "Verificação:\n",
      "Média calculada: 0.068065s\n",
      "Média no summary: 0.0588059830535305s\n",
      "Diferença: 0.0092593758s\n"
     ]
    }
   ],
   "source": [
    "import pandas as pd\n",
    "import numpy as np\n",
    "from scipy import stats\n",
    "\n",
    "# Carregar os dados\n",
    "df = pd.read_csv('detection_metrics.csv')\n",
    "\n",
    "# Extrair os tempos de detecção individuais\n",
    "detection_times = df['detection_time'].values\n",
    "\n",
    "# Calcular estatísticas\n",
    "mean_time = np.mean(detection_times)\n",
    "std_time = np.std(detection_times, ddof=1)  # Sample standard deviation\n",
    "n = len(detection_times)\n",
    "\n",
    "print(f\"Número de amostras: {n}\")\n",
    "print(f\"Tempo médio: {mean_time:.6f}s\")\n",
    "print(f\"Desvio padrão: {std_time:.6f}s\")\n",
    "\n",
    "# Cálculo do IC 95%\n",
    "confidence_level = 0.95\n",
    "degrees_freedom = n - 1\n",
    "t_critical = stats.t.ppf((1 + confidence_level) / 2, degrees_freedom)\n",
    "margin_error = t_critical * (std_time / np.sqrt(n))\n",
    "\n",
    "ci_lower = mean_time - margin_error\n",
    "ci_upper = mean_time + margin_error\n",
    "\n",
    "print(f\"\\nIntervalo de Confiança 95%:\")\n",
    "print(f\"[{ci_lower:.6f}s; {ci_upper:.6f}s]\")\n",
    "print(f\"[{ci_lower*1000:.2f}ms; {ci_upper*1000:.2f}ms]\")\n",
    "\n",
    "# Verificar se o valor no summary_stats está correto\n",
    "print(f\"\\nVerificação:\")\n",
    "print(f\"Média calculada: {mean_time:.6f}s\")\n",
    "print(f\"Média no summary: 0.0588059830535305s\")\n",
    "print(f\"Diferença: {abs(mean_time - 0.0588059830535305):.10f}s\")"
   ]
  }
 ],
 "metadata": {
  "kernelspec": {
   "display_name": "FenvJupyter",
   "language": "python",
   "name": "python3"
  },
  "language_info": {
   "codemirror_mode": {
    "name": "ipython",
    "version": 3
   },
   "file_extension": ".py",
   "mimetype": "text/x-python",
   "name": "python",
   "nbconvert_exporter": "python",
   "pygments_lexer": "ipython3",
   "version": "3.12.0"
  }
 },
 "nbformat": 4,
 "nbformat_minor": 5
}
